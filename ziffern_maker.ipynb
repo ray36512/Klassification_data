{
 "cells": [
  {
   "cell_type": "code",
   "execution_count": null,
   "metadata": {},
   "outputs": [],
   "source": [
    "import tkinter as tk\n",
    "from tkinter import filedialog\n",
    "from PIL import Image, ImageDraw\n",
    "\n",
    "# Configuración de la ventana\n",
    "root = tk.Tk()\n",
    "root.title(\"Dibuja números a mano\")\n",
    "\n",
    "# Crear un lienzo para dibujar\n",
    "canvas = tk.Canvas(root, width=200, height=200, bg=\"white\")\n",
    "canvas.pack()\n",
    "\n",
    "# Función para guardar la imagen\n",
    "def save_image():\n",
    "    file_path = filedialog.asksaveasfilename(defaultextension=\".png\")\n",
    "    if file_path:\n",
    "        canvas.postscript(file=file_path + \".eps\", colormode='color')\n",
    "        img = Image.open(file_path + \".eps\")\n",
    "        img.save(file_path)\n",
    "\n",
    "# Inicializar variables de dibujo\n",
    "drawing = False\n",
    "last_x, last_y = None, None\n",
    "line_width = 15\n",
    "\n",
    "# Funciones de dibujo\n",
    "def start_drawing(event):\n",
    "    global drawing, last_x, last_y\n",
    "    drawing = True\n",
    "    last_x, last_y = event.x, event.y\n",
    "\n",
    "def stop_drawing(event):\n",
    "    global drawing, last_x, last_y\n",
    "    drawing = False\n",
    "    last_x, last_y = None, None\n",
    "\n",
    "def draw(event):\n",
    "    global drawing, last_x, last_y\n",
    "    if drawing:\n",
    "        x, y = event.x, event.y\n",
    "        canvas.create_line((last_x, last_y, x, y), width=line_width, fill=\"black\")\n",
    "        last_x, last_y = x, y\n",
    "\n",
    "# Configurar eventos de ratón\n",
    "canvas.bind(\"<Button-1>\", start_drawing)\n",
    "canvas.bind(\"<ButtonRelease-1>\", stop_drawing)\n",
    "canvas.bind(\"<B1-Motion>\", draw)\n",
    "\n",
    "# Botón para guardar la imagen\n",
    "save_button = tk.Button(root, text=\"Guardar Imagen\", command=save_image)\n",
    "save_button.pack()\n",
    "\n",
    "# Ejecutar la aplicación\n",
    "root.mainloop()"
   ]
  }
 ],
 "metadata": {
  "kernelspec": {
   "display_name": "Python 3",
   "language": "python",
   "name": "python3"
  },
  "language_info": {
   "name": "python",
   "version": "3.11.5"
  }
 },
 "nbformat": 4,
 "nbformat_minor": 2
}
